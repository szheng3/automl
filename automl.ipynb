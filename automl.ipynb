{
 "cells": [
  {
   "cell_type": "code",
   "execution_count": 16,
   "metadata": {
    "collapsed": true,
    "ExecuteTime": {
     "end_time": "2023-06-09T04:57:31.580393Z",
     "start_time": "2023-06-09T04:57:31.477651Z"
    }
   },
   "outputs": [],
   "source": [
    "from ludwig.datasets import agnews\n",
    "import logging\n",
    "import pandas as pd\n",
    "\n",
    "# Loads the dataset as a pandas.DataFrame\n",
    "train_df, test_df, _ = agnews.load(split=True)\n"
   ]
  },
  {
   "cell_type": "code",
   "execution_count": 17,
   "outputs": [],
   "source": [
    "config = {\n",
    "  \"input_features\": [\n",
    "    {\n",
    "      \"name\": \"title\",            # The name of the input column\n",
    "      \"type\": \"text\",             # Data type of the input column\n",
    "      \"encoder\": {\n",
    "            \"type\": \"parallel_cnn\"\n",
    "       }                          # The model architecture we should use for encoding this column\n",
    "    }\n",
    "  ],\n",
    "  \"output_features\": [\n",
    "    {\n",
    "      \"name\": \"class\",\n",
    "      \"type\": \"category\",\n",
    "    }\n",
    "  ],\n",
    "  \"trainer\": {\n",
    "    \"epochs\": 3,  # We'll train for three epochs. Training longer might give\n",
    "                  # better performance.\n",
    "  }\n",
    "}"
   ],
   "metadata": {
    "collapsed": false,
    "ExecuteTime": {
     "end_time": "2023-06-09T04:57:31.583179Z",
     "start_time": "2023-06-09T04:57:31.581077Z"
    }
   }
  },
  {
   "cell_type": "code",
   "execution_count": 18,
   "outputs": [
    {
     "name": "stdout",
     "output_type": "stream",
     "text": [
      "\n",
      "╒════════════════════════╕\n",
      "│ EXPERIMENT DESCRIPTION │\n",
      "╘════════════════════════╛\n",
      "\n",
      "╒══════════════════╤══════════════════════════════════════════════════════════════════════════════════════════════════════════╕\n",
      "│ Experiment name  │ api_experiment                                                                                           │\n",
      "├──────────────────┼──────────────────────────────────────────────────────────────────────────────────────────────────────────┤\n",
      "│ Model name       │ run                                                                                                      │\n",
      "├──────────────────┼──────────────────────────────────────────────────────────────────────────────────────────────────────────┤\n",
      "│ Output directory │ /Users/shuai/PycharmProjects/automl/results/api_experiment_run                                           │\n",
      "├──────────────────┼──────────────────────────────────────────────────────────────────────────────────────────────────────────┤\n",
      "│ ludwig_version   │ '0.7.4'                                                                                                  │\n",
      "├──────────────────┼──────────────────────────────────────────────────────────────────────────────────────────────────────────┤\n",
      "│ command          │ ('/opt/homebrew/anaconda3/envs/neural_style_transfer/lib/python3.8/site-packages/ipykernel_launcher.py ' │\n",
      "│                  │  '-f '                                                                                                   │\n",
      "│                  │  '/Users/shuai/Library/Jupyter/runtime/kernel-76dd9b17-d6a1-4075-bd16-f896115a4ba8.json')                │\n",
      "├──────────────────┼──────────────────────────────────────────────────────────────────────────────────────────────────────────┤\n",
      "│ commit_hash      │ '02006f5a72b2'                                                                                           │\n",
      "├──────────────────┼──────────────────────────────────────────────────────────────────────────────────────────────────────────┤\n",
      "│ random_seed      │ 42                                                                                                       │\n",
      "├──────────────────┼──────────────────────────────────────────────────────────────────────────────────────────────────────────┤\n",
      "│ data_format      │ \"<class 'pandas.core.frame.DataFrame'>\"                                                                  │\n",
      "├──────────────────┼──────────────────────────────────────────────────────────────────────────────────────────────────────────┤\n",
      "│ torch_version    │ '2.0.1'                                                                                                  │\n",
      "├──────────────────┼──────────────────────────────────────────────────────────────────────────────────────────────────────────┤\n",
      "│ compute          │ {'num_nodes': 1}                                                                                         │\n",
      "╘══════════════════╧══════════════════════════════════════════════════════════════════════════════════════════════════════════╛\n",
      "\n",
      "╒═══════════════╕\n",
      "│ LUDWIG CONFIG │\n",
      "╘═══════════════╛\n",
      "\n",
      "User-specified config (with upgrades):\n",
      "\n",
      "{   'input_features': [   {   'encoder': {'type': 'parallel_cnn'},\n",
      "                              'name': 'title',\n",
      "                              'type': 'text'}],\n",
      "    'ludwig_version': '0.7.4',\n",
      "    'output_features': [{'name': 'class', 'type': 'category'}],\n",
      "    'trainer': {'epochs': 3}}\n",
      "\n",
      "Full config saved to:\n",
      "/Users/shuai/PycharmProjects/automl/results/api_experiment_run/api_experiment/model/model_hyperparameters.json\n",
      "\n",
      "╒═══════════════╕\n",
      "│ PREPROCESSING │\n",
      "╘═══════════════╛\n",
      "\n",
      "Using full dataframe\n",
      "Building dataset (it may take a while)\n",
      "Max length of feature 'title': 44 (without start and stop symbols)\n",
      "Setting max length using dataset: 46 (including start and stop symbols)\n",
      "max sequence length is 46 for feature 'title'\n",
      "Building dataset: DONE\n",
      "Writing preprocessed training set cache\n",
      "Writing preprocessed test set cache\n",
      "Writing preprocessed validation set cache\n",
      "Writing train set metadata\n",
      "\n",
      "Dataset Statistics\n",
      "╒════════════╤═══════════════╤════════════════════╕\n",
      "│ Dataset    │   Size (Rows) │ Size (In Memory)   │\n",
      "╞════════════╪═══════════════╪════════════════════╡\n",
      "│ Training   │         80430 │ 9.28 Mb            │\n",
      "├────────────┼───────────────┼────────────────────┤\n",
      "│ Validation │         11489 │ 1.33 Mb            │\n",
      "├────────────┼───────────────┼────────────────────┤\n",
      "│ Test       │         22980 │ 2.65 Mb            │\n",
      "╘════════════╧═══════════════╧════════════════════╛\n",
      "\n",
      "╒═══════╕\n",
      "│ MODEL │\n",
      "╘═══════╛\n",
      "\n",
      "Warnings and other logs:\n",
      "Created a temporary directory at /var/folders/qf/p1jx3hqj5vv1t6n49gjv_wjw0000gn/T/tmpix181hm2\n",
      "Writing /var/folders/qf/p1jx3hqj5vv1t6n49gjv_wjw0000gn/T/tmpix181hm2/_remote_module_non_scriptable.py\n",
      "Tuning batch size...\n",
      "Tuning batch size...\n",
      "Exploring batch_size=2\n"
     ]
    },
    {
     "name": "stderr",
     "output_type": "stream",
     "text": [
      "/opt/homebrew/anaconda3/envs/neural_style_transfer/lib/python3.8/site-packages/torch/nn/modules/conv.py:309: UserWarning: Using padding='same' with even kernel lengths and odd dilation may require a zero-padded copy of the input be created (Triggered internally at /Users/runner/work/pytorch/pytorch/pytorch/aten/src/ATen/native/Convolution.cpp:1004.)\n",
      "  return F.conv1d(input, weight, bias, self.stride,\n"
     ]
    },
    {
     "name": "stdout",
     "output_type": "stream",
     "text": [
      "Throughput at batch_size=2: 131.94407 samples/s\n",
      "Exploring batch_size=4\n",
      "Throughput at batch_size=4: 228.71888 samples/s\n",
      "Exploring batch_size=8\n",
      "Throughput at batch_size=8: 403.08045 samples/s\n",
      "Exploring batch_size=16\n",
      "Throughput at batch_size=16: 159.35011 samples/s\n",
      "Throughput decrease at batch_size=16\n",
      "Selected batch_size=8\n",
      "\n",
      "╒══════════╕\n",
      "│ TRAINING │\n",
      "╘══════════╛\n",
      "\n",
      "Creating fresh model training run.\n",
      "Training for 30162 step(s), approximately 3 epoch(s).\n",
      "Early stopping policy: 5 round(s) of evaluation, or 50270 step(s), approximately 5 epoch(s).\n",
      "\n",
      "Starting with step 0, epoch: 0\n",
      "Training:  33%|███▎      | 10053/30162 [03:45<08:44, 38.31it/s]\n",
      "Running evaluation for step: 10054, epoch: 0\n",
      "Evaluation valid: 100%|██████████| 1437/1437 [00:05<00:00, 242.64it/s]\n",
      "Evaluation test : 100%|██████████| 2873/2873 [00:13<00:00, 212.59it/s]\n",
      "Evaluation took 19.5422s\n",
      "\n",
      "╒════════════╤════════════╤═════════════╤════════╤═══════════╕\n",
      "│ class      │   accuracy │   hits_at_k │   loss │   roc_auc │\n",
      "╞════════════╪════════════╪═════════════╪════════╪═══════════╡\n",
      "│ train      │     0.8245 │      0.9765 │ 0.5591 │    0.9534 │\n",
      "├────────────┼────────────┼─────────────┼────────┼───────────┤\n",
      "│ validation │     0.8608 │      0.9853 │ 0.4541 │    0.9679 │\n",
      "├────────────┼────────────┼─────────────┼────────┼───────────┤\n",
      "│ test       │     0.8591 │      0.9851 │ 0.4539 │    0.9670 │\n",
      "╘════════════╧════════════╧═════════════╧════════╧═══════════╛\n",
      "╒════════════╤════════╕\n",
      "│ combined   │   loss │\n",
      "╞════════════╪════════╡\n",
      "│ train      │ 0.5591 │\n",
      "├────────────┼────────┤\n",
      "│ validation │ 0.4541 │\n",
      "├────────────┼────────┤\n",
      "│ test       │ 0.4539 │\n",
      "╘════════════╧════════╛\n",
      "Evaluation validation metric: 'class' 'accuracy' improved.\n",
      "'class' 'accuracy' increased by inf.\n",
      "New best model saved.\n",
      "\n",
      "Training:  67%|██████▋   | 20108/30162 [07:51<04:34, 36.64it/s]  \n",
      "Running evaluation for step: 20108, epoch: 1\n",
      "Evaluation valid: 100%|██████████| 1437/1437 [00:06<00:00, 232.11it/s]\n",
      "Evaluation test : 100%|██████████| 2873/2873 [00:14<00:00, 203.79it/s]\n",
      "Evaluation took 20.3838s\n",
      "\n",
      "╒════════════╤════════════╤═════════════╤════════╤═══════════╕\n",
      "│ class      │   accuracy │   hits_at_k │   loss │   roc_auc │\n",
      "╞════════════╪════════════╪═════════════╪════════╪═══════════╡\n",
      "│ train      │     0.8971 │      0.9920 │ 0.3752 │    0.9794 │\n",
      "├────────────┼────────────┼─────────────┼────────┼───────────┤\n",
      "│ validation │     0.8735 │      0.9874 │ 0.4477 │    0.9713 │\n",
      "├────────────┼────────────┼─────────────┼────────┼───────────┤\n",
      "│ test       │     0.8714 │      0.9868 │ 0.4475 │    0.9711 │\n",
      "╘════════════╧════════════╧═════════════╧════════╧═══════════╛\n",
      "╒════════════╤════════╕\n",
      "│ combined   │   loss │\n",
      "╞════════════╪════════╡\n",
      "│ train      │ 0.3752 │\n",
      "├────────────┼────────┤\n",
      "│ validation │ 0.4477 │\n",
      "├────────────┼────────┤\n",
      "│ test       │ 0.4475 │\n",
      "╘════════════╧════════╛\n",
      "Evaluation validation metric: 'class' 'accuracy' improved.\n",
      "'class' 'accuracy' increased by 0.013.\n",
      "New best model saved.\n",
      "\n",
      "Training: 100%|██████████| 30162/30162 [12:02<00:00, 37.99it/s]  \n",
      "Running evaluation for step: 30162, epoch: 2\n",
      "Evaluation valid: 100%|██████████| 1437/1437 [00:05<00:00, 245.00it/s]\n",
      "Evaluation test : 100%|██████████| 2873/2873 [00:13<00:00, 214.22it/s]\n",
      "Evaluation took 19.3701s\n",
      "\n",
      "╒════════════╤════════════╤═════════════╤════════╤═══════════╕\n",
      "│ class      │   accuracy │   hits_at_k │   loss │   roc_auc │\n",
      "╞════════════╪════════════╪═════════════╪════════╪═══════════╡\n",
      "│ train      │     0.9209 │      0.9949 │ 0.3035 │    0.9871 │\n",
      "├────────────┼────────────┼─────────────┼────────┼───────────┤\n",
      "│ validation │     0.8688 │      0.9856 │ 0.6107 │    0.9698 │\n",
      "├────────────┼────────────┼─────────────┼────────┼───────────┤\n",
      "│ test       │     0.8659 │      0.9853 │ 0.6244 │    0.9687 │\n",
      "╘════════════╧════════════╧═════════════╧════════╧═══════════╛\n",
      "╒════════════╤════════╕\n",
      "│ combined   │   loss │\n",
      "╞════════════╪════════╡\n",
      "│ train      │ 0.3035 │\n",
      "├────────────┼────────┤\n",
      "│ validation │ 0.6107 │\n",
      "├────────────┼────────┤\n",
      "│ test       │ 0.6244 │\n",
      "╘════════════╧════════╛\n",
      "Last improvement of class validation accuracy happened 10054 step(s) ago.\n",
      "\n",
      "Training: 100%|██████████| 30162/30162 [12:21<00:00, 40.65it/s]\n",
      "\n",
      "╒═════════════════╕\n",
      "│ TRAINING REPORT │\n",
      "╘═════════════════╛\n",
      "\n",
      "╒══════════════════════════════════╤════════════════════╕\n",
      "│ Validation feature               │ class              │\n",
      "├──────────────────────────────────┼────────────────────┤\n",
      "│ Validation metric                │ accuracy           │\n",
      "├──────────────────────────────────┼────────────────────┤\n",
      "│ Best model step                  │ 20108              │\n",
      "├──────────────────────────────────┼────────────────────┤\n",
      "│ Best model epoch                 │ 2                  │\n",
      "├──────────────────────────────────┼────────────────────┤\n",
      "│ Best model's validation accuracy │ 0.8735491633415222 │\n",
      "├──────────────────────────────────┼────────────────────┤\n",
      "│ Best model's test accuracy       │ 0.8713959455490112 │\n",
      "╘══════════════════════════════════╧════════════════════╛\n",
      "\n",
      "Finished: api_experiment_run\n",
      "Saved to: /Users/shuai/PycharmProjects/automl/results/api_experiment_run\n",
      "\n",
      "╒══════════╕\n",
      "│ FINISHED │\n",
      "╘══════════╛\n",
      "\n"
     ]
    }
   ],
   "source": [
    "from ludwig.api import LudwigModel\n",
    "\n",
    "# Constructs Ludwig model from config dictionary\n",
    "model = LudwigModel(config, logging_level=logging.INFO)\n",
    "\n",
    "# Trains the model. This cell might take a few minutes.\n",
    "train_stats, preprocessed_data, output_directory = model.train(dataset=train_df)"
   ],
   "metadata": {
    "collapsed": false,
    "ExecuteTime": {
     "end_time": "2023-06-09T05:10:00.826168Z",
     "start_time": "2023-06-09T04:57:31.583858Z"
    }
   }
  },
  {
   "cell_type": "code",
   "execution_count": 19,
   "outputs": [
    {
     "name": "stdout",
     "output_type": "stream",
     "text": [
      "Evaluation: 100%|██████████| 950/950 [00:03<00:00, 248.92it/s]\n",
      "\n",
      "===== class =====\n",
      "accuracy: 0.8651036024093628\n",
      "hits_at_k: 0.9880257248878479\n",
      "loss: 0.46574562788009644\n",
      "overall_stats: { 'avg_f1_score_macro': 0.864559968959744,\n",
      "  'avg_f1_score_micro': 0.8651138307672062,\n",
      "  'avg_f1_score_weighted': 0.8645654962014254,\n",
      "  'avg_precision_macro': 0.8652806336338054,\n",
      "  'avg_precision_micro': 0.8651138307672062,\n",
      "  'avg_precision_weighted': 0.8651138307672062,\n",
      "  'avg_recall_macro': 0.8651035863751004,\n",
      "  'avg_recall_micro': 0.8651138307672062,\n",
      "  'avg_recall_weighted': 0.8651138307672062,\n",
      "  'kappa_score': 0.8201510943468129,\n",
      "  'token_accuracy': 0.8651138307672062}\n",
      "per_class_stats: {sci_tech: {   'accuracy': 0.9210422424003158,\n",
      "    'f1_score': 0.846311475409836,\n",
      "    'fall_out': 0.06176522196876644,\n",
      "    'false_discovery_rate': 0.17564870259481036,\n",
      "    'false_negative_rate': 0.1305263157894737,\n",
      "    'false_negatives': 248,\n",
      "    'false_omission_rate': 0.04432529043789102,\n",
      "    'false_positive_rate': 0.06176522196876644,\n",
      "    'false_positives': 352,\n",
      "    'hit_rate': 0.8694736842105263,\n",
      "    'informedness': 0.8077084622417599,\n",
      "    'markedness': 0.7800260069672986,\n",
      "    'matthews_correlation_coefficient': 0.7937465632027247,\n",
      "    'miss_rate': 0.1305263157894737,\n",
      "    'negative_predictive_value': 0.955674709562109,\n",
      "    'positive_predictive_value': 0.8243512974051896,\n",
      "    'precision': 0.8243512974051896,\n",
      "    'recall': 0.8694736842105263,\n",
      "    'sensitivity': 0.8694736842105263,\n",
      "    'specificity': 0.9382347780312336,\n",
      "    'true_negative_rate': 0.9382347780312336,\n",
      "    'true_negatives': 5347,\n",
      "    'true_positive_rate': 0.8694736842105263,\n",
      "    'true_positives': 1652},\n",
      "  world: {   'accuracy': 0.9364390051322542,\n",
      "    'f1_score': 0.8726601634590034,\n",
      "    'fall_out': 0.041761712581154575,\n",
      "    'false_discovery_rate': 0.1257263602746963,\n",
      "    'false_negative_rate': 0.1289473684210526,\n",
      "    'false_negatives': 245,\n",
      "    'false_omission_rate': 0.04293725902558709,\n",
      "    'false_positive_rate': 0.041761712581154575,\n",
      "    'false_positives': 238,\n",
      "    'hit_rate': 0.8710526315789474,\n",
      "    'informedness': 0.8292909189977928,\n",
      "    'markedness': 0.8313363806997165,\n",
      "    'matthews_correlation_coefficient': 0.8303130199790721,\n",
      "    'miss_rate': 0.1289473684210526,\n",
      "    'negative_predictive_value': 0.9570627409744129,\n",
      "    'positive_predictive_value': 0.8742736397253037,\n",
      "    'precision': 0.8742736397253037,\n",
      "    'recall': 0.8710526315789474,\n",
      "    'sensitivity': 0.8710526315789474,\n",
      "    'specificity': 0.9582382874188454,\n",
      "    'true_negative_rate': 0.9582382874188454,\n",
      "    'true_negatives': 5461,\n",
      "    'true_positive_rate': 0.8710526315789474,\n",
      "    'true_positives': 1655},\n",
      "  sports: {   'accuracy': 0.9576260034215028,\n",
      "    'f1_score': 0.9167097775478531,\n",
      "    'fall_out': 0.034041059835058785,\n",
      "    'false_discovery_rate': 0.098677517802645,\n",
      "    'false_negative_rate': 0.06736842105263163,\n",
      "    'false_negatives': 128,\n",
      "    'false_omission_rate': 0.022723238061423734,\n",
      "    'false_positive_rate': 0.034041059835058785,\n",
      "    'false_positives': 194,\n",
      "    'hit_rate': 0.9326315789473684,\n",
      "    'informedness': 0.8985905191123096,\n",
      "    'markedness': 0.8785992441359314,\n",
      "    'matthews_correlation_coefficient': 0.8885386603180468,\n",
      "    'miss_rate': 0.06736842105263163,\n",
      "    'negative_predictive_value': 0.9772767619385763,\n",
      "    'positive_predictive_value': 0.901322482197355,\n",
      "    'precision': 0.901322482197355,\n",
      "    'recall': 0.9326315789473684,\n",
      "    'sensitivity': 0.9326315789473684,\n",
      "    'specificity': 0.9659589401649412,\n",
      "    'true_negative_rate': 0.9659589401649412,\n",
      "    'true_negatives': 5505,\n",
      "    'true_positive_rate': 0.9326315789473684,\n",
      "    'true_positives': 1772},\n",
      "  business: {   'accuracy': 0.9151204105803395,\n",
      "    'f1_score': 0.8225584594222832,\n",
      "    'fall_out': 0.04228070175438592,\n",
      "    'false_discovery_rate': 0.13882488479262678,\n",
      "    'false_negative_rate': 0.21274354923644023,\n",
      "    'false_negatives': 404,\n",
      "    'false_omission_rate': 0.06890670305304447,\n",
      "    'false_positive_rate': 0.04228070175438592,\n",
      "    'false_positives': 241,\n",
      "    'hit_rate': 0.7872564507635598,\n",
      "    'informedness': 0.744975749009174,\n",
      "    'markedness': 0.7922684121543289,\n",
      "    'matthews_correlation_coefficient': 0.7682582598065444,\n",
      "    'miss_rate': 0.21274354923644023,\n",
      "    'negative_predictive_value': 0.9310932969469555,\n",
      "    'positive_predictive_value': 0.8611751152073732,\n",
      "    'precision': 0.8611751152073732,\n",
      "    'recall': 0.7872564507635598,\n",
      "    'sensitivity': 0.7872564507635598,\n",
      "    'specificity': 0.9577192982456141,\n",
      "    'true_negative_rate': 0.9577192982456141,\n",
      "    'true_negatives': 5459,\n",
      "    'true_positive_rate': 0.7872564507635598,\n",
      "    'true_positives': 1495}}\n",
      "roc_auc: 0.9691963195800781\n"
     ]
    }
   ],
   "source": [
    "# Generates predictions and performance statistics for the test set.\n",
    "test_stats, predictions, output_directory = model.evaluate(\n",
    "  test_df,\n",
    "  collect_predictions=True,\n",
    "  collect_overall_stats=True\n",
    ")"
   ],
   "metadata": {
    "collapsed": false,
    "ExecuteTime": {
     "end_time": "2023-06-09T05:10:04.890132Z",
     "start_time": "2023-06-09T05:10:00.826458Z"
    }
   }
  },
  {
   "cell_type": "code",
   "execution_count": 21,
   "outputs": [
    {
     "name": "stderr",
     "output_type": "stream",
     "text": [
      "/opt/homebrew/anaconda3/envs/neural_style_transfer/lib/python3.8/site-packages/ludwig/utils/visualization_utils.py:1167: UserWarning: FixedFormatter should only be used together with FixedLocator\n",
      "  ax.set_xticklabels([\"\"] + labels, rotation=45, ha=\"left\")\n",
      "/opt/homebrew/anaconda3/envs/neural_style_transfer/lib/python3.8/site-packages/ludwig/utils/visualization_utils.py:1168: UserWarning: FixedFormatter should only be used together with FixedLocator\n",
      "  ax.set_yticklabels([\"\"] + labels, rotation=45, ha=\"right\")\n"
     ]
    }
   ],
   "source": [
    "from ludwig.visualize import confusion_matrix\n",
    "\n",
    "confusion_matrix(\n",
    "  [test_stats],\n",
    "  model.training_set_metadata,\n",
    "  'class',\n",
    "  top_n_classes=[5],\n",
    "  model_names=[''],\n",
    "  normalize=True,\n",
    ")"
   ],
   "metadata": {
    "collapsed": false,
    "ExecuteTime": {
     "end_time": "2023-06-09T05:11:01.793667Z",
     "start_time": "2023-06-09T05:10:42.642353Z"
    }
   }
  },
  {
   "cell_type": "code",
   "execution_count": 22,
   "outputs": [],
   "source": [
    "# Visualizes learning curves, which show how performance metrics changed over\n",
    "# time during training.\n",
    "from ludwig.visualize import learning_curves\n",
    "\n",
    "learning_curves(train_stats, output_feature_name='class')"
   ],
   "metadata": {
    "collapsed": false,
    "ExecuteTime": {
     "end_time": "2023-06-09T05:11:12.826001Z",
     "start_time": "2023-06-09T05:11:07.798349Z"
    }
   }
  },
  {
   "cell_type": "code",
   "execution_count": 23,
   "outputs": [
    {
     "name": "stdout",
     "output_type": "stream",
     "text": [
      "Prediction: 100%|██████████| 1/1 [00:00<00:00, 293.53it/s]\n"
     ]
    }
   ],
   "source": [
    "text_to_predict = pd.DataFrame({\n",
    "  \"title\": [\n",
    "    \"Google may spur cloud cybersecurity M&A with $5.4B Mandiant buy\",\n",
    "    \"Europe struggles to meet mounting needs of Ukraine's fleeing millions\",\n",
    "    \"How the pandemic housing market spurred buyer's remorse across America\",\n",
    "  ]\n",
    "})\n",
    "\n",
    "predictions, output_directory = model.predict(text_to_predict)"
   ],
   "metadata": {
    "collapsed": false,
    "ExecuteTime": {
     "end_time": "2023-06-09T05:11:16.753471Z",
     "start_time": "2023-06-09T05:11:16.718242Z"
    }
   }
  },
  {
   "cell_type": "code",
   "execution_count": 24,
   "outputs": [
    {
     "data": {
      "text/plain": "  class_predictions                                class_probabilities  \\\n0          sci_tech  [0.9999967813491821, 7.663726875328791e-10, 1....   \n1             world  [0.05853056535124779, 0.9117871522903442, 0.00...   \n2          business  [0.3341456651687622, 0.08625838905572891, 0.00...   \n\n   class_probability  class_probabilities_sci_tech  class_probabilities_world  \\\n0           0.999997                      0.999997               7.663727e-10   \n1           0.911787                      0.058531               9.117872e-01   \n2           0.573059                      0.334146               8.625839e-02   \n\n   class_probabilities_sports  class_probabilities_business  \n0                1.123789e-10                      0.000003  \n1                2.261778e-03                      0.027420  \n2                6.536994e-03                      0.573059  ",
      "text/html": "<div>\n<style scoped>\n    .dataframe tbody tr th:only-of-type {\n        vertical-align: middle;\n    }\n\n    .dataframe tbody tr th {\n        vertical-align: top;\n    }\n\n    .dataframe thead th {\n        text-align: right;\n    }\n</style>\n<table border=\"1\" class=\"dataframe\">\n  <thead>\n    <tr style=\"text-align: right;\">\n      <th></th>\n      <th>class_predictions</th>\n      <th>class_probabilities</th>\n      <th>class_probability</th>\n      <th>class_probabilities_sci_tech</th>\n      <th>class_probabilities_world</th>\n      <th>class_probabilities_sports</th>\n      <th>class_probabilities_business</th>\n    </tr>\n  </thead>\n  <tbody>\n    <tr>\n      <th>0</th>\n      <td>sci_tech</td>\n      <td>[0.9999967813491821, 7.663726875328791e-10, 1....</td>\n      <td>0.999997</td>\n      <td>0.999997</td>\n      <td>7.663727e-10</td>\n      <td>1.123789e-10</td>\n      <td>0.000003</td>\n    </tr>\n    <tr>\n      <th>1</th>\n      <td>world</td>\n      <td>[0.05853056535124779, 0.9117871522903442, 0.00...</td>\n      <td>0.911787</td>\n      <td>0.058531</td>\n      <td>9.117872e-01</td>\n      <td>2.261778e-03</td>\n      <td>0.027420</td>\n    </tr>\n    <tr>\n      <th>2</th>\n      <td>business</td>\n      <td>[0.3341456651687622, 0.08625838905572891, 0.00...</td>\n      <td>0.573059</td>\n      <td>0.334146</td>\n      <td>8.625839e-02</td>\n      <td>6.536994e-03</td>\n      <td>0.573059</td>\n    </tr>\n  </tbody>\n</table>\n</div>"
     },
     "execution_count": 24,
     "metadata": {},
     "output_type": "execute_result"
    }
   ],
   "source": [
    "predictions"
   ],
   "metadata": {
    "collapsed": false,
    "ExecuteTime": {
     "end_time": "2023-06-09T05:11:28.181475Z",
     "start_time": "2023-06-09T05:11:28.150706Z"
    }
   }
  },
  {
   "cell_type": "code",
   "execution_count": null,
   "outputs": [],
   "source": [],
   "metadata": {
    "collapsed": false
   }
  }
 ],
 "metadata": {
  "kernelspec": {
   "display_name": "Python 3",
   "language": "python",
   "name": "python3"
  },
  "language_info": {
   "codemirror_mode": {
    "name": "ipython",
    "version": 2
   },
   "file_extension": ".py",
   "mimetype": "text/x-python",
   "name": "python",
   "nbconvert_exporter": "python",
   "pygments_lexer": "ipython2",
   "version": "2.7.6"
  }
 },
 "nbformat": 4,
 "nbformat_minor": 0
}
